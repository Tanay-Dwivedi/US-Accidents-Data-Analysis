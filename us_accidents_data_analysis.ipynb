{
 "cells": [
  {
   "cell_type": "markdown",
   "id": "9d66d983-6846-4e90-8189-51dd81921323",
   "metadata": {},
   "source": [
    "# Us Accidents Data Analysis"
   ]
  },
  {
   "cell_type": "code",
   "execution_count": null,
   "id": "39f1827f-9285-4906-92a7-e62e533f623d",
   "metadata": {},
   "outputs": [],
   "source": []
  }
 ],
 "metadata": {
  "kernelspec": {
   "display_name": "Python 3 (ipykernel)",
   "language": "python",
   "name": "python3"
  },
  "language_info": {
   "codemirror_mode": {
    "name": "ipython",
    "version": 3
   },
   "file_extension": ".py",
   "mimetype": "text/x-python",
   "name": "python",
   "nbconvert_exporter": "python",
   "pygments_lexer": "ipython3",
   "version": "3.12.1"
  }
 },
 "nbformat": 4,
 "nbformat_minor": 5
}
